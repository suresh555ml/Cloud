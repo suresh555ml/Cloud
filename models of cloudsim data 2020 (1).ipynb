{
 "cells": [
  {
   "cell_type": "code",
   "execution_count": 1,
   "id": "67c83971",
   "metadata": {},
   "outputs": [],
   "source": [
    "import pandas as pd\n",
    "import numpy as np"
   ]
  },
  {
   "cell_type": "code",
   "execution_count": 2,
   "id": "a786e090",
   "metadata": {},
   "outputs": [],
   "source": [
    "X_train=pd.read_csv('X_train2020.csv')"
   ]
  },
  {
   "cell_type": "code",
   "execution_count": 3,
   "id": "0088005d",
   "metadata": {},
   "outputs": [],
   "source": [
    "Y_train=pd.read_csv('Y_train2020.csv')"
   ]
  },
  {
   "cell_type": "code",
   "execution_count": 4,
   "id": "8814bdaa",
   "metadata": {},
   "outputs": [],
   "source": [
    "# dataset=pd.read_csv('qh2-rcc120.csv')\n"
   ]
  },
  {
   "cell_type": "code",
   "execution_count": 5,
   "id": "5500a527",
   "metadata": {
    "scrolled": true
   },
   "outputs": [],
   "source": [
    "# dataset.columns"
   ]
  },
  {
   "cell_type": "code",
   "execution_count": 6,
   "id": "aa3a61e5",
   "metadata": {},
   "outputs": [],
   "source": [
    "# X_features = ['Power', 'Network_RX', 'Network_TX',\n",
    "#        'Inlet_Temperature', 'CPU1_Temperature', 'CPU2_Temperature',\n",
    "#        'Fan_speed1', 'Fan_speed2', 'Fan_speed3', 'Fan_speed4', 'Ram',\n",
    "#        'Ram_Used', 'No_Of_Running_vms', 'CPU_cores', 'CPU_cores_used',\n",
    "#        'Ambient_Temperature', 'Cooling_Power', 'Total_Power', 'CPU_Temp_Max']"
   ]
  },
  {
   "cell_type": "code",
   "execution_count": 7,
   "id": "5adebca0",
   "metadata": {},
   "outputs": [],
   "source": [
    "# X_train=dataset[X_features]"
   ]
  },
  {
   "cell_type": "code",
   "execution_count": 8,
   "id": "152a97ad",
   "metadata": {},
   "outputs": [],
   "source": [
    "# X_train.head()"
   ]
  },
  {
   "cell_type": "code",
   "execution_count": 9,
   "id": "34a04daf",
   "metadata": {},
   "outputs": [],
   "source": [
    "# Y_train= dataset['CPU_Load']"
   ]
  },
  {
   "cell_type": "code",
   "execution_count": null,
   "id": "06358d90",
   "metadata": {},
   "outputs": [],
   "source": []
  },
  {
   "cell_type": "code",
   "execution_count": 10,
   "id": "bf195f97",
   "metadata": {},
   "outputs": [
    {
     "data": {
      "text/plain": [
       "LinearRegression()"
      ]
     },
     "execution_count": 10,
     "metadata": {},
     "output_type": "execute_result"
    }
   ],
   "source": [
    "from sklearn.linear_model import LinearRegression\n",
    "from sklearn.tree import DecisionTreeRegressor\n",
    "from sklearn.ensemble import RandomForestRegressor\n",
    "model = LinearRegression()\n",
    "# model = DecisionTreeRegressor()\n",
    "# model = RandomForestRegressor()\n",
    "model.fit(X_train, Y_train)"
   ]
  },
  {
   "cell_type": "markdown",
   "id": "a484dbfc",
   "metadata": {},
   "source": [
    "## Evaluating the model"
   ]
  },
  {
   "cell_type": "code",
   "execution_count": 11,
   "id": "30e4e84d",
   "metadata": {},
   "outputs": [],
   "source": [
    "from sklearn.metrics import mean_squared_error\n",
    "predictions = model.predict(X_train)\n",
    "mse = mean_squared_error(Y_train,predictions)\n",
    "rmse = np.sqrt(mse)"
   ]
  },
  {
   "cell_type": "code",
   "execution_count": 12,
   "id": "2bb4d650",
   "metadata": {},
   "outputs": [
    {
     "data": {
      "text/plain": [
       "1.5714223685791051"
      ]
     },
     "execution_count": 12,
     "metadata": {},
     "output_type": "execute_result"
    }
   ],
   "source": [
    "rmse"
   ]
  },
  {
   "cell_type": "markdown",
   "id": "a6772009",
   "metadata": {},
   "source": [
    "## Cross validation"
   ]
  },
  {
   "cell_type": "code",
   "execution_count": 13,
   "id": "95f792c7",
   "metadata": {},
   "outputs": [],
   "source": [
    "from sklearn.model_selection import cross_val_score\n",
    "scores = cross_val_score(model, X_train, Y_train, scoring=\"neg_mean_squared_error\", cv=10)\n",
    "rmse_scores = np.sqrt(-scores)"
   ]
  },
  {
   "cell_type": "code",
   "execution_count": 14,
   "id": "44339970",
   "metadata": {},
   "outputs": [
    {
     "data": {
      "text/plain": [
       "array([0.8701969 , 2.44753047, 0.88944046, 1.04408686, 0.37196647,\n",
       "       1.06129398, 3.21921041, 2.4147556 , 1.88120575, 3.48286109])"
      ]
     },
     "execution_count": 14,
     "metadata": {},
     "output_type": "execute_result"
    }
   ],
   "source": [
    "rmse_scores"
   ]
  },
  {
   "cell_type": "code",
   "execution_count": 15,
   "id": "fccbf204",
   "metadata": {},
   "outputs": [],
   "source": [
    "def print_scores(scores):\n",
    "    print(\"Scores:\", scores)\n",
    "    print(\"Mean: \", scores.mean())\n",
    "    print(\"Standard deviation: \", scores.std())"
   ]
  },
  {
   "cell_type": "code",
   "execution_count": 16,
   "id": "cf71721b",
   "metadata": {},
   "outputs": [
    {
     "name": "stdout",
     "output_type": "stream",
     "text": [
      "Scores: [0.8701969  2.44753047 0.88944046 1.04408686 0.37196647 1.06129398\n",
      " 3.21921041 2.4147556  1.88120575 3.48286109]\n",
      "Mean:  1.7682547984245462\n",
      "Standard deviation:  1.0242040851182188\n"
     ]
    }
   ],
   "source": [
    "print_scores(rmse_scores)"
   ]
  },
  {
   "cell_type": "markdown",
   "id": "approved-awareness",
   "metadata": {},
   "source": [
    "### Apply model to test data "
   ]
  },
  {
   "cell_type": "code",
   "execution_count": 19,
   "id": "sitting-thing",
   "metadata": {},
   "outputs": [],
   "source": [
    "# X_test=pd.read_csv('X_test2020.csv')\n",
    "# Y_test=pd.read_csv('Y_test2020.csv')\n",
    "# from sklearn.metrics import mean_squared_error\n",
    "# predictions = model.predict(X_test)\n",
    "# mse = mean_squared_error(Y_test,predictions)\n",
    "# rmse = np.sqrt(mse)"
   ]
  },
  {
   "cell_type": "code",
   "execution_count": 20,
   "id": "patent-response",
   "metadata": {},
   "outputs": [
    {
     "data": {
      "text/plain": [
       "3.2763685401656195"
      ]
     },
     "execution_count": 20,
     "metadata": {},
     "output_type": "execute_result"
    }
   ],
   "source": [
    "# rmse"
   ]
  },
  {
   "cell_type": "markdown",
   "id": "finite-tolerance",
   "metadata": {},
   "source": [
    "### Plotting the Training set result:"
   ]
  },
  {
   "cell_type": "code",
   "execution_count": 21,
   "id": "forced-namibia",
   "metadata": {},
   "outputs": [],
   "source": [
    "from matplotlib import pyplot as plt"
   ]
  },
  {
   "cell_type": "code",
   "execution_count": 25,
   "id": "supported-miami",
   "metadata": {},
   "outputs": [
    {
     "data": {
      "image/png": "[encoded data removed]",
      "text/plain": [
       "<Figure size 432x288 with 1 Axes>"
      ]
     },
     "metadata": {
      "needs_background": "light"
     },
     "output_type": "display_data"
    }
   ],
   "source": [
    "\n",
    "plt.plot(Y_train, model.predict(X_train) , color= 'blue')\n",
    "plt.title('CPU Load (training set) ')\n",
    "\n",
    "plt.ylabel('CPU Load')\n",
    "plt.show()"
   ]
  },
  {
   "cell_type": "markdown",
   "id": "coordinate-venue",
   "metadata": {},
   "source": [
    "### Plotting the test set result:"
   ]
  },
  {
   "cell_type": "code",
   "execution_count": null,
   "id": "certain-threat",
   "metadata": {},
   "outputs": [],
   "source": [
    "plt.scatter(X_test, y_test, color='red')\n",
    "plt.plot(X_train, regressor.predict(X_train), color= 'blue')\n",
    "plt.title('Salary vs Experience (training set) ')\n",
    "plt.xlabel('year of experiance')\n",
    "plt.ylabel('salary')\n",
    "plt.show()"
   ]
  }
 ],
 "metadata": {
  "kernelspec": {
   "display_name": "Python 3",
   "language": "python",
   "name": "python3"
  },
  "language_info": {
   "codemirror_mode": {
    "name": "ipython",
    "version": 3
   },
   "file_extension": ".py",
   "mimetype": "text/x-python",
   "name": "python",
   "nbconvert_exporter": "python",
   "pygments_lexer": "ipython3",
   "version": "3.9.2"
  }
 },
 "nbformat": 4,
 "nbformat_minor": 5
}
